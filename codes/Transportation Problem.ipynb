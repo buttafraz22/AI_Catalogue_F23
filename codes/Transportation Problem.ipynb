{
 "cells": [
  {
   "cell_type": "markdown",
   "id": "4bd956d8",
   "metadata": {},
   "source": [
    "# Transportation Problem "
   ]
  },
  {
   "cell_type": "markdown",
   "id": "05fb0573",
   "metadata": {},
   "source": [
    "For a sequence of steps starting from 1 to n, you can either walk or take a tram, subject to following rules:\n",
    "<ul> \n",
    "    <li> Tram results in distance from <code>s </code>to <code> 2s </code> cost. </li>\n",
    "    <li> Walking will result in distance from <code> s </code> to <code> s + 1 </code> cost.</li>\n",
    "</ul>\n",
    "\n",
    "Return the optimal sequence of steps from 1 to any given n, that would result in minimum cost."
   ]
  },
  {
   "cell_type": "markdown",
   "id": "18b60c00",
   "metadata": {},
   "source": [
    "## Class Blueprint\n",
    "\n",
    "Our search problem will have a blueprint of the following. The implementation is generic, it need have the following structure."
   ]
  },
  {
   "cell_type": "code",
   "execution_count": 42,
   "id": "26660a36",
   "metadata": {},
   "outputs": [],
   "source": [
    "class TransportationProblem:\n",
    "    \n",
    "    def __init__(self, n):\n",
    "        \"\"\"\n",
    "            Initializes an instance of the transportation problem with the provided upper bound.\n",
    "            \n",
    "            Args:\n",
    "                n (int): the upper bound in the number of steps.  \n",
    "        \"\"\"\n",
    "        \n",
    "        self.n = n\n",
    "    \n",
    "    def start(self):\n",
    "        \"\"\"\n",
    "            Returns the start state of the problem.\n",
    "        \"\"\"\n",
    "        \n",
    "        return 1\n",
    "    \n",
    "    def is_goal(self, s):\n",
    "        \"\"\"\n",
    "            Checks whether the provided state is the goal state or not.\n",
    "            \n",
    "            Args:\n",
    "                s (int) : the provided state.\n",
    "            \n",
    "            Returns:\n",
    "                bool : Whether it is the goal state or not.\n",
    "        \"\"\"\n",
    "        \n",
    "        if s == self.n:\n",
    "            return True\n",
    "        \n",
    "        return False\n",
    "    \n",
    "    def actions(self, s):\n",
    "        \"\"\"\n",
    "            Returns the actions that can be taken at the subtree rooted at the node 's'. Actions in this instance of the\n",
    "            problem are either 'walk' or 'tram'.\n",
    "            \n",
    "            Args:\n",
    "                s (int) : The state at which we want to check the available actions.\n",
    "            \n",
    "            Returns:\n",
    "                actions (list) : The available actions at the state 's'.\n",
    "        \"\"\"\n",
    "        \n",
    "        actions = []\n",
    "        \n",
    "        if s + 1 <= self.n:\n",
    "            actions.append('walk')\n",
    "        if s * 2 <= self.n:\n",
    "            actions.append('tram')\n",
    "        \n",
    "        return actions\n",
    "    \n",
    "    def cost(self, a):\n",
    "        \"\"\"\n",
    "            Computes the cost associated with the action at the given state.\n",
    "            \n",
    "            Args:\n",
    "                a(str) : The action to take at the given state.\n",
    "            \n",
    "            Returns:\n",
    "                int : The cost associated with that action at the state s.\n",
    "        \"\"\"\n",
    "        \n",
    "        if a == 'tram':\n",
    "            return 2\n",
    "        elif a == 'walk':\n",
    "            return 1\n",
    "    \n",
    "    def transition(self, s, a):\n",
    "        \"\"\"\n",
    "            Returns the transition step for the action provided at the given state.\n",
    "            \n",
    "            Args:\n",
    "                s(int) : The state provided.\n",
    "                a(str) : The action to take at the given state.\n",
    "            \n",
    "            Returns:\n",
    "                int : The transition associated with that action at the state s.\n",
    "        \"\"\"\n",
    "        \n",
    "        if a == 'tram':\n",
    "            return 2*s\n",
    "        elif a == 'walk':\n",
    "            return s+1\n",
    "        \n",
    "        return 0"
   ]
  },
  {
   "cell_type": "markdown",
   "id": "a6c0440e",
   "metadata": {},
   "source": [
    "## Backtracking Search - Brute Force Algorithm\n",
    "This algorithm computes the maximal effecient low-cost steps using the backtrack search. Note that this is not computationally effecient at large values of <code>n</code> of problem.\n",
    "\n",
    "We will be passing the instance of the problem to the function. The code blueprint is as follows:\n",
    "\n",
    "<code>def backtrack_search(prob)</code>"
   ]
  },
  {
   "cell_type": "code",
   "execution_count": 43,
   "id": "bd2256ff",
   "metadata": {},
   "outputs": [],
   "source": [
    "def backtrack_search(prob):\n",
    "    from math import inf\n",
    "    min_cost = inf\n",
    "    history = []\n",
    "    \n",
    "    def recurse(s, c, hist):\n",
    "        nonlocal min_cost, history\n",
    "        \n",
    "        if prob.is_goal(s):\n",
    "            if c < min_cost:\n",
    "                min_cost = c\n",
    "                history = hist\n",
    "        else:\n",
    "            actions = prob.actions(s)\n",
    "            \n",
    "            for act in actions:\n",
    "                new_s = prob.transition(s,act)\n",
    "                cost = prob.cost(act)\n",
    "                \n",
    "                recurse(new_s, cost+c, hist + [(s, act, new_s)])\n",
    "    \n",
    "    recurse(prob.start(), 0, [])\n",
    "    return min_cost, history"
   ]
  },
  {
   "cell_type": "code",
   "execution_count": 44,
   "id": "5f1df4be",
   "metadata": {},
   "outputs": [
    {
     "name": "stdout",
     "output_type": "stream",
     "text": [
      "(4, [(1, 'walk', 2), (2, 'walk', 3), (3, 'tram', 6)])\n"
     ]
    }
   ],
   "source": [
    "prob =TransportationProblem(6)\n",
    "print(backtrack_search(prob))"
   ]
  },
  {
   "cell_type": "markdown",
   "id": "4299bbfc",
   "metadata": {},
   "source": [
    "## Backtracking Search - Dynamic Programming Algorithm\n",
    "The issue with the recursive call of the brute force algorithm is that for very large values of <code>n</code>, the call stack for the recursion will overflow. The reason behind this is that for very large values of <code>n</code>, say <code>n=1000</code>, the branches of the tree (_which basically represent actions at that node_) grow exponentially.\n",
    "\n",
    "We use dynamic programming to solve this problem. The function prototype remains the same as above."
   ]
  },
  {
   "cell_type": "code",
   "execution_count": 45,
   "id": "fad62f3e",
   "metadata": {},
   "outputs": [],
   "source": [
    "def backtrack_search_dp(prob):\n",
    "    \"\"\"\n",
    "        Backtrack search with dynamic programming.\n",
    "        \n",
    "        Args:\n",
    "            prob (TransportationProblem): The transportation problem to solve.\n",
    "\n",
    "        Returns:\n",
    "            cost (int): The minimum cost to reach the goal state.\n",
    "            history (list): The sequence of actions that leads to the goal state with the minimum cost of the goal found.\n",
    "    \"\"\"\n",
    "    min_cost = float('inf')\n",
    "    min_history = []\n",
    "    cache = [float('inf')] * (prob.n)\n",
    "    \n",
    "    def recurse(s, cost, history):\n",
    "        nonlocal min_cost, min_history,cache  # these variables are out of the scope of the function so nonlocal is added\n",
    "        \n",
    "        if prob.is_goal(s):\n",
    "            if cost < min_cost:\n",
    "                min_cost = cost\n",
    "                min_history = history\n",
    "            return min_cost, min_history\n",
    "        elif  cache[s] <= cost:\n",
    "            return min_cost, min_history\n",
    "        else:\n",
    "            cache[s] = cost\n",
    "            for action in prob.actions(s):\n",
    "                new_state = prob.transition(s, action)\n",
    "                new_cost = cost + prob.cost( action)\n",
    "                min_cost, min_history = recurse(new_state, new_cost, history + [(s, action, new_state)])\n",
    "            return min_cost, min_history\n",
    "\n",
    "    min_cost, min_history = recurse(prob.start(), 0, [])\n",
    "\n",
    "    return min_cost, min_history"
   ]
  },
  {
   "cell_type": "code",
   "execution_count": 46,
   "id": "8ef36db8",
   "metadata": {},
   "outputs": [
    {
     "name": "stdout",
     "output_type": "stream",
     "text": [
      "(22, [(1, 'walk', 2), (2, 'walk', 3), (3, 'tram', 6), (6, 'walk', 7), (7, 'tram', 14), (14, 'walk', 15), (15, 'tram', 30), (30, 'walk', 31), (31, 'tram', 62), (62, 'tram', 124), (124, 'walk', 125), (125, 'tram', 250), (250, 'tram', 500), (500, 'tram', 1000)])\n"
     ]
    }
   ],
   "source": [
    "prob = TransportationProblem(1000)\n",
    "print(backtrack_search_dp(prob))"
   ]
  },
  {
   "cell_type": "markdown",
   "id": "8fa5c1bb",
   "metadata": {},
   "source": [
    "## Depth First Search\n",
    "The depth first search algorithm is the same as backtrack search, but it does not optimise it. Rather what it does is that it stops the recursion on the first instance of the goal found. In other words, we are not concerned with the cost, but just the goal.\n",
    "\n",
    "The prototype is <code>def depth_first(prob)</code>."
   ]
  },
  {
   "cell_type": "code",
   "execution_count": 47,
   "id": "0c15f44b",
   "metadata": {},
   "outputs": [],
   "source": [
    "def depth_first_recursive(prob):\n",
    "    \"\"\"\n",
    "    Performs a depth-first search on the transportation problem.\n",
    "\n",
    "    Args:\n",
    "        prob (TransportationProblem): The transportation problem to solve.\n",
    "\n",
    "    Returns:\n",
    "        cost (int): The cost to reach the goal state.\n",
    "        history (list): The sequence of actions that leads to the goal state with the first instance of the goal found.\n",
    "    \"\"\"\n",
    "    min_cost = float('inf')\n",
    "    min_history = []\n",
    "    cache = [float('inf')] * (prob.n)\n",
    "    is_goal_found = False\n",
    "    \n",
    "    def dfs(s, cost, history):\n",
    "        nonlocal min_cost, min_history, is_goal_found\n",
    "        \n",
    "        if prob.is_goal(s):\n",
    "            if cost < min_cost:\n",
    "                min_cost = cost\n",
    "                min_history = history\n",
    "                is_goal_found = True\n",
    "            return\n",
    "        \n",
    "        if cost >= cache[s] or is_goal_found:\n",
    "            return\n",
    "        \n",
    "        cache[s] = cost\n",
    "        \n",
    "        for action in prob.actions(s):\n",
    "            new_state = prob.transition(s, action)\n",
    "            new_cost = cost + prob.cost(action)\n",
    "            dfs(new_state, new_cost, history + [(s, action, new_state)])\n",
    "    \n",
    "    dfs(prob.start(), 0, [])\n",
    "    \n",
    "    return min_cost, min_history"
   ]
  },
  {
   "cell_type": "code",
   "execution_count": 48,
   "id": "165f0de5",
   "metadata": {},
   "outputs": [
    {
     "name": "stdout",
     "output_type": "stream",
     "text": [
      "(501, [(1, 'walk', 2), (2, 'walk', 3), (3, 'walk', 4), (4, 'walk', 5), (5, 'walk', 6), (6, 'walk', 7), (7, 'walk', 8), (8, 'walk', 9), (9, 'walk', 10), (10, 'walk', 11), (11, 'walk', 12), (12, 'walk', 13), (13, 'walk', 14), (14, 'walk', 15), (15, 'walk', 16), (16, 'walk', 17), (17, 'walk', 18), (18, 'walk', 19), (19, 'walk', 20), (20, 'walk', 21), (21, 'walk', 22), (22, 'walk', 23), (23, 'walk', 24), (24, 'walk', 25), (25, 'walk', 26), (26, 'walk', 27), (27, 'walk', 28), (28, 'walk', 29), (29, 'walk', 30), (30, 'walk', 31), (31, 'walk', 32), (32, 'walk', 33), (33, 'walk', 34), (34, 'walk', 35), (35, 'walk', 36), (36, 'walk', 37), (37, 'walk', 38), (38, 'walk', 39), (39, 'walk', 40), (40, 'walk', 41), (41, 'walk', 42), (42, 'walk', 43), (43, 'walk', 44), (44, 'walk', 45), (45, 'walk', 46), (46, 'walk', 47), (47, 'walk', 48), (48, 'walk', 49), (49, 'walk', 50), (50, 'walk', 51), (51, 'walk', 52), (52, 'walk', 53), (53, 'walk', 54), (54, 'walk', 55), (55, 'walk', 56), (56, 'walk', 57), (57, 'walk', 58), (58, 'walk', 59), (59, 'walk', 60), (60, 'walk', 61), (61, 'walk', 62), (62, 'walk', 63), (63, 'walk', 64), (64, 'walk', 65), (65, 'walk', 66), (66, 'walk', 67), (67, 'walk', 68), (68, 'walk', 69), (69, 'walk', 70), (70, 'walk', 71), (71, 'walk', 72), (72, 'walk', 73), (73, 'walk', 74), (74, 'walk', 75), (75, 'walk', 76), (76, 'walk', 77), (77, 'walk', 78), (78, 'walk', 79), (79, 'walk', 80), (80, 'walk', 81), (81, 'walk', 82), (82, 'walk', 83), (83, 'walk', 84), (84, 'walk', 85), (85, 'walk', 86), (86, 'walk', 87), (87, 'walk', 88), (88, 'walk', 89), (89, 'walk', 90), (90, 'walk', 91), (91, 'walk', 92), (92, 'walk', 93), (93, 'walk', 94), (94, 'walk', 95), (95, 'walk', 96), (96, 'walk', 97), (97, 'walk', 98), (98, 'walk', 99), (99, 'walk', 100), (100, 'walk', 101), (101, 'walk', 102), (102, 'walk', 103), (103, 'walk', 104), (104, 'walk', 105), (105, 'walk', 106), (106, 'walk', 107), (107, 'walk', 108), (108, 'walk', 109), (109, 'walk', 110), (110, 'walk', 111), (111, 'walk', 112), (112, 'walk', 113), (113, 'walk', 114), (114, 'walk', 115), (115, 'walk', 116), (116, 'walk', 117), (117, 'walk', 118), (118, 'walk', 119), (119, 'walk', 120), (120, 'walk', 121), (121, 'walk', 122), (122, 'walk', 123), (123, 'walk', 124), (124, 'walk', 125), (125, 'walk', 126), (126, 'walk', 127), (127, 'walk', 128), (128, 'walk', 129), (129, 'walk', 130), (130, 'walk', 131), (131, 'walk', 132), (132, 'walk', 133), (133, 'walk', 134), (134, 'walk', 135), (135, 'walk', 136), (136, 'walk', 137), (137, 'walk', 138), (138, 'walk', 139), (139, 'walk', 140), (140, 'walk', 141), (141, 'walk', 142), (142, 'walk', 143), (143, 'walk', 144), (144, 'walk', 145), (145, 'walk', 146), (146, 'walk', 147), (147, 'walk', 148), (148, 'walk', 149), (149, 'walk', 150), (150, 'walk', 151), (151, 'walk', 152), (152, 'walk', 153), (153, 'walk', 154), (154, 'walk', 155), (155, 'walk', 156), (156, 'walk', 157), (157, 'walk', 158), (158, 'walk', 159), (159, 'walk', 160), (160, 'walk', 161), (161, 'walk', 162), (162, 'walk', 163), (163, 'walk', 164), (164, 'walk', 165), (165, 'walk', 166), (166, 'walk', 167), (167, 'walk', 168), (168, 'walk', 169), (169, 'walk', 170), (170, 'walk', 171), (171, 'walk', 172), (172, 'walk', 173), (173, 'walk', 174), (174, 'walk', 175), (175, 'walk', 176), (176, 'walk', 177), (177, 'walk', 178), (178, 'walk', 179), (179, 'walk', 180), (180, 'walk', 181), (181, 'walk', 182), (182, 'walk', 183), (183, 'walk', 184), (184, 'walk', 185), (185, 'walk', 186), (186, 'walk', 187), (187, 'walk', 188), (188, 'walk', 189), (189, 'walk', 190), (190, 'walk', 191), (191, 'walk', 192), (192, 'walk', 193), (193, 'walk', 194), (194, 'walk', 195), (195, 'walk', 196), (196, 'walk', 197), (197, 'walk', 198), (198, 'walk', 199), (199, 'walk', 200), (200, 'walk', 201), (201, 'walk', 202), (202, 'walk', 203), (203, 'walk', 204), (204, 'walk', 205), (205, 'walk', 206), (206, 'walk', 207), (207, 'walk', 208), (208, 'walk', 209), (209, 'walk', 210), (210, 'walk', 211), (211, 'walk', 212), (212, 'walk', 213), (213, 'walk', 214), (214, 'walk', 215), (215, 'walk', 216), (216, 'walk', 217), (217, 'walk', 218), (218, 'walk', 219), (219, 'walk', 220), (220, 'walk', 221), (221, 'walk', 222), (222, 'walk', 223), (223, 'walk', 224), (224, 'walk', 225), (225, 'walk', 226), (226, 'walk', 227), (227, 'walk', 228), (228, 'walk', 229), (229, 'walk', 230), (230, 'walk', 231), (231, 'walk', 232), (232, 'walk', 233), (233, 'walk', 234), (234, 'walk', 235), (235, 'walk', 236), (236, 'walk', 237), (237, 'walk', 238), (238, 'walk', 239), (239, 'walk', 240), (240, 'walk', 241), (241, 'walk', 242), (242, 'walk', 243), (243, 'walk', 244), (244, 'walk', 245), (245, 'walk', 246), (246, 'walk', 247), (247, 'walk', 248), (248, 'walk', 249), (249, 'walk', 250), (250, 'walk', 251), (251, 'walk', 252), (252, 'walk', 253), (253, 'walk', 254), (254, 'walk', 255), (255, 'walk', 256), (256, 'walk', 257), (257, 'walk', 258), (258, 'walk', 259), (259, 'walk', 260), (260, 'walk', 261), (261, 'walk', 262), (262, 'walk', 263), (263, 'walk', 264), (264, 'walk', 265), (265, 'walk', 266), (266, 'walk', 267), (267, 'walk', 268), (268, 'walk', 269), (269, 'walk', 270), (270, 'walk', 271), (271, 'walk', 272), (272, 'walk', 273), (273, 'walk', 274), (274, 'walk', 275), (275, 'walk', 276), (276, 'walk', 277), (277, 'walk', 278), (278, 'walk', 279), (279, 'walk', 280), (280, 'walk', 281), (281, 'walk', 282), (282, 'walk', 283), (283, 'walk', 284), (284, 'walk', 285), (285, 'walk', 286), (286, 'walk', 287), (287, 'walk', 288), (288, 'walk', 289), (289, 'walk', 290), (290, 'walk', 291), (291, 'walk', 292), (292, 'walk', 293), (293, 'walk', 294), (294, 'walk', 295), (295, 'walk', 296), (296, 'walk', 297), (297, 'walk', 298), (298, 'walk', 299), (299, 'walk', 300), (300, 'walk', 301), (301, 'walk', 302), (302, 'walk', 303), (303, 'walk', 304), (304, 'walk', 305), (305, 'walk', 306), (306, 'walk', 307), (307, 'walk', 308), (308, 'walk', 309), (309, 'walk', 310), (310, 'walk', 311), (311, 'walk', 312), (312, 'walk', 313), (313, 'walk', 314), (314, 'walk', 315), (315, 'walk', 316), (316, 'walk', 317), (317, 'walk', 318), (318, 'walk', 319), (319, 'walk', 320), (320, 'walk', 321), (321, 'walk', 322), (322, 'walk', 323), (323, 'walk', 324), (324, 'walk', 325), (325, 'walk', 326), (326, 'walk', 327), (327, 'walk', 328), (328, 'walk', 329), (329, 'walk', 330), (330, 'walk', 331), (331, 'walk', 332), (332, 'walk', 333), (333, 'walk', 334), (334, 'walk', 335), (335, 'walk', 336), (336, 'walk', 337), (337, 'walk', 338), (338, 'walk', 339), (339, 'walk', 340), (340, 'walk', 341), (341, 'walk', 342), (342, 'walk', 343), (343, 'walk', 344), (344, 'walk', 345), (345, 'walk', 346), (346, 'walk', 347), (347, 'walk', 348), (348, 'walk', 349), (349, 'walk', 350), (350, 'walk', 351), (351, 'walk', 352), (352, 'walk', 353), (353, 'walk', 354), (354, 'walk', 355), (355, 'walk', 356), (356, 'walk', 357), (357, 'walk', 358), (358, 'walk', 359), (359, 'walk', 360), (360, 'walk', 361), (361, 'walk', 362), (362, 'walk', 363), (363, 'walk', 364), (364, 'walk', 365), (365, 'walk', 366), (366, 'walk', 367), (367, 'walk', 368), (368, 'walk', 369), (369, 'walk', 370), (370, 'walk', 371), (371, 'walk', 372), (372, 'walk', 373), (373, 'walk', 374), (374, 'walk', 375), (375, 'walk', 376), (376, 'walk', 377), (377, 'walk', 378), (378, 'walk', 379), (379, 'walk', 380), (380, 'walk', 381), (381, 'walk', 382), (382, 'walk', 383), (383, 'walk', 384), (384, 'walk', 385), (385, 'walk', 386), (386, 'walk', 387), (387, 'walk', 388), (388, 'walk', 389), (389, 'walk', 390), (390, 'walk', 391), (391, 'walk', 392), (392, 'walk', 393), (393, 'walk', 394), (394, 'walk', 395), (395, 'walk', 396), (396, 'walk', 397), (397, 'walk', 398), (398, 'walk', 399), (399, 'walk', 400), (400, 'walk', 401), (401, 'walk', 402), (402, 'walk', 403), (403, 'walk', 404), (404, 'walk', 405), (405, 'walk', 406), (406, 'walk', 407), (407, 'walk', 408), (408, 'walk', 409), (409, 'walk', 410), (410, 'walk', 411), (411, 'walk', 412), (412, 'walk', 413), (413, 'walk', 414), (414, 'walk', 415), (415, 'walk', 416), (416, 'walk', 417), (417, 'walk', 418), (418, 'walk', 419), (419, 'walk', 420), (420, 'walk', 421), (421, 'walk', 422), (422, 'walk', 423), (423, 'walk', 424), (424, 'walk', 425), (425, 'walk', 426), (426, 'walk', 427), (427, 'walk', 428), (428, 'walk', 429), (429, 'walk', 430), (430, 'walk', 431), (431, 'walk', 432), (432, 'walk', 433), (433, 'walk', 434), (434, 'walk', 435), (435, 'walk', 436), (436, 'walk', 437), (437, 'walk', 438), (438, 'walk', 439), (439, 'walk', 440), (440, 'walk', 441), (441, 'walk', 442), (442, 'walk', 443), (443, 'walk', 444), (444, 'walk', 445), (445, 'walk', 446), (446, 'walk', 447), (447, 'walk', 448), (448, 'walk', 449), (449, 'walk', 450), (450, 'walk', 451), (451, 'walk', 452), (452, 'walk', 453), (453, 'walk', 454), (454, 'walk', 455), (455, 'walk', 456), (456, 'walk', 457), (457, 'walk', 458), (458, 'walk', 459), (459, 'walk', 460), (460, 'walk', 461), (461, 'walk', 462), (462, 'walk', 463), (463, 'walk', 464), (464, 'walk', 465), (465, 'walk', 466), (466, 'walk', 467), (467, 'walk', 468), (468, 'walk', 469), (469, 'walk', 470), (470, 'walk', 471), (471, 'walk', 472), (472, 'walk', 473), (473, 'walk', 474), (474, 'walk', 475), (475, 'walk', 476), (476, 'walk', 477), (477, 'walk', 478), (478, 'walk', 479), (479, 'walk', 480), (480, 'walk', 481), (481, 'walk', 482), (482, 'walk', 483), (483, 'walk', 484), (484, 'walk', 485), (485, 'walk', 486), (486, 'walk', 487), (487, 'walk', 488), (488, 'walk', 489), (489, 'walk', 490), (490, 'walk', 491), (491, 'walk', 492), (492, 'walk', 493), (493, 'walk', 494), (494, 'walk', 495), (495, 'walk', 496), (496, 'walk', 497), (497, 'walk', 498), (498, 'walk', 499), (499, 'walk', 500), (500, 'tram', 1000)])\n"
     ]
    }
   ],
   "source": [
    "prob = TransportationProblem(1000)\n",
    "print(depth_first_recursive(prob)) # 501, because the recursion is being called at the left-left branch of the tree and will finally stop."
   ]
  },
  {
   "cell_type": "markdown",
   "id": "ae02f2c5",
   "metadata": {},
   "source": [
    "## Breadth First Search\n",
    "The Breadth first search algorithm explores each vertex of the tree level by level and then returns the cost. Intuitively, we can say that the cost is being incremented by 1, when each level of the tree is being incremented."
   ]
  },
  {
   "cell_type": "code",
   "execution_count": 49,
   "id": "0b285210",
   "metadata": {},
   "outputs": [],
   "source": [
    "def bfs_search(prob):\n",
    "  \"\"\"\n",
    "  Performs a breadth-first search on the transportation problem.\n",
    "\n",
    "  Args:\n",
    "    prob (TransportationProblem): The transportation problem to solve.\n",
    "\n",
    "  Returns:\n",
    "    min_cost (int): The minimum cost to reach the goal state.\n",
    "    min_history (list): The sequence of actions that leads to the goal state with the minimum cost.\n",
    "  \"\"\"\n",
    "\n",
    "  queue = [(prob.start(), 0, [])]\n",
    "  visited = set()\n",
    "\n",
    "  while queue:\n",
    "    s, cost, history = queue.pop(0)\n",
    "\n",
    "    if prob.is_goal(s):\n",
    "      return cost, history\n",
    "\n",
    "    if s not in visited:\n",
    "      visited.add(s)\n",
    "\n",
    "      for action in prob.actions(s):\n",
    "        new_state = prob.transition(s, action)\n",
    "        new_cost = cost + prob.cost(action)\n",
    "        new_history = history + [(s, action, new_state)]\n",
    "\n",
    "        queue.append((new_state, new_cost, new_history))\n",
    "\n",
    "  return float('inf'), []"
   ]
  },
  {
   "cell_type": "code",
   "execution_count": 50,
   "id": "74a54663",
   "metadata": {},
   "outputs": [
    {
     "name": "stdout",
     "output_type": "stream",
     "text": [
      "The levels of the bfs tree are 6\n",
      "The steps leading to it are [(1, 'walk', 2), (2, 'tram', 4), (4, 'walk', 5), (5, 'tram', 10)]\n"
     ]
    }
   ],
   "source": [
    "prob = TransportationProblem(10)\n",
    "levels, actions = bfs_search(prob)\n",
    "\n",
    "print(f'The levels of the bfs tree are {levels}')\n",
    "      \n",
    "print(f'The steps leading to it are {actions}')"
   ]
  },
  {
   "cell_type": "markdown",
   "id": "3d858278",
   "metadata": {},
   "source": [
    "## Iterative Deepening Search"
   ]
  },
  {
   "cell_type": "markdown",
   "id": "ca865f90",
   "metadata": {},
   "source": [
    "Iterative deepening search (IDS) is a search algorithm that combines the completeness of breadth-first search (BFS) with the space efficiency of depth-first search (DFS). It works by repeatedly performing DFS searches with increasing depth limits until the goal state is found."
   ]
  },
  {
   "cell_type": "code",
   "execution_count": 51,
   "id": "f2a055a6",
   "metadata": {},
   "outputs": [],
   "source": [
    "def iterative_search(prob):\n",
    "  \"\"\"\n",
    "  Performs an iterative deepening search on the transportation problem.\n",
    "\n",
    "  Args:\n",
    "    prob (TransportationProblem): The transportation problem to solve.\n",
    "\n",
    "  Returns:\n",
    "    min_cost (int): The minimum cost to reach the goal state.\n",
    "    min_history (list): The sequence of actions that leads to the goal state with the minimum cost.\n",
    "  \"\"\"\n",
    "\n",
    "  depth_limit = 0\n",
    "\n",
    "  while True:\n",
    "    min_cost, min_history = dls_search(prob, depth_limit)\n",
    "\n",
    "    if min_cost != float('inf'):\n",
    "      return min_cost, min_history\n",
    "\n",
    "    depth_limit += 1\n",
    "\n",
    "def dls_search(prob, depth_limit):\n",
    "  \"\"\"\n",
    "  Performs a depth-limited search on the transportation problem with the given depth limit.\n",
    "\n",
    "  Args:\n",
    "    prob (TransportationProblem): The transportation problem to solve.\n",
    "    depth_limit (int): The depth limit.\n",
    "\n",
    "  Returns:\n",
    "    min_cost (int): The minimum cost to reach the goal state within the given depth limit.\n",
    "    min_history (list): The sequence of actions that leads to the goal state with the minimum cost within the given depth limit.\n",
    "  \"\"\"\n",
    "\n",
    "  stack = [(prob.start(), 0, [])]\n",
    "  visited = set()\n",
    "\n",
    "  while stack:\n",
    "    s, cost, history = stack.pop()\n",
    "\n",
    "    if prob.is_goal(s):\n",
    "      return cost, history\n",
    "\n",
    "    if cost > depth_limit or s in visited:\n",
    "      continue\n",
    "\n",
    "    visited.add(s)\n",
    "\n",
    "    for action in prob.actions(s):\n",
    "      new_state = prob.transition(s, action)\n",
    "      new_cost = cost + prob.cost(action)\n",
    "      new_history = history + [(s, action, new_state)]\n",
    "\n",
    "      stack.append((new_state, new_cost, new_history))\n",
    "\n",
    "  return float('inf'), []\n"
   ]
  },
  {
   "cell_type": "code",
   "execution_count": 52,
   "id": "88b2bcf8",
   "metadata": {},
   "outputs": [
    {
     "name": "stdout",
     "output_type": "stream",
     "text": [
      "(7, [(1, 'tram', 2), (2, 'tram', 4), (4, 'walk', 5), (5, 'tram', 10)])\n"
     ]
    }
   ],
   "source": [
    "print(iterative_search(prob))"
   ]
  }
 ],
 "metadata": {
  "kernelspec": {
   "display_name": "Python 3 (ipykernel)",
   "language": "python",
   "name": "python3"
  },
  "language_info": {
   "codemirror_mode": {
    "name": "ipython",
    "version": 3
   },
   "file_extension": ".py",
   "mimetype": "text/x-python",
   "name": "python",
   "nbconvert_exporter": "python",
   "pygments_lexer": "ipython3",
   "version": "3.9.13"
  }
 },
 "nbformat": 4,
 "nbformat_minor": 5
}
