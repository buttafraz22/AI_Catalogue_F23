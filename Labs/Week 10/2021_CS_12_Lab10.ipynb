{
 "cells": [
  {
   "cell_type": "markdown",
   "metadata": {
    "id": "6aBjBJ2eUDnV"
   },
   "source": [
    "# Chatbot Assignment\n",
    "This code creates a single chatbot that converses with the user in the style of a prompted user. This"
   ]
  },
  {
   "cell_type": "code",
   "execution_count": 1,
   "metadata": {
    "id": "Y89UkhKNS3NL"
   },
   "outputs": [],
   "source": [
    "import nltk\n",
    "from nltk.chat.util import Chat, reflections"
   ]
  },
  {
   "cell_type": "markdown",
   "metadata": {
    "id": "yLOKotYxWcfH"
   },
   "source": [
    "## Defining Response and Prompt pairs\n",
    "This part defines the prompt and pre-defined pairs using the regex expression matching."
   ]
  },
  {
   "cell_type": "code",
   "execution_count": 9,
   "metadata": {
    "id": "dU-WkAKrWbx9"
   },
   "outputs": [],
   "source": [
    "pairs = [\n",
    "    [\n",
    "        r\"hi|hello|hey\",\n",
    "        [\"Hello, how can I help you?\",]\n",
    "    ],\n",
    "    [\n",
    "        r\"how|are|you?|doing?\",\n",
    "        [\"I'm good, thank you!\",]\n",
    "    ],\n",
    "    [\n",
    "        r\"what|is|your|name?|who|are|you?|may|I|get|to|know|you?\",\n",
    "        [\"I'm a simple chatbot.\",]\n",
    "    ],\n",
    "    [\n",
    "        r\"joke|mazak\",\n",
    "        [\"I am Groot!\",]\n",
    "    ],\n",
    "    [\n",
    "        r\"quit\",\n",
    "        [\"Goodbye!\"],\n",
    "    ],\n",
    "]"
   ]
  },
  {
   "cell_type": "markdown",
   "metadata": {
    "id": "FLbcjDgeW_rI"
   },
   "source": [
    "## Driver code"
   ]
  },
  {
   "cell_type": "code",
   "execution_count": 10,
   "metadata": {
    "colab": {
     "base_uri": "https://localhost:8080/"
    },
    "id": "Is7rbfVaXBvr",
    "outputId": "b1de2858-1d4b-4502-bca9-8948256b84f4"
   },
   "outputs": [
    {
     "name": "stdout",
     "output_type": "stream",
     "text": [
      "Chatbot: Hello! How can I help you today? (Type 'quit' to exit)\n"
     ]
    },
    {
     "name": "stdin",
     "output_type": "stream",
     "text": [
      "> may I get to know you\n"
     ]
    },
    {
     "name": "stdout",
     "output_type": "stream",
     "text": [
      "I'm a simple chatbot.\n"
     ]
    },
    {
     "name": "stdin",
     "output_type": "stream",
     "text": [
      "> quit\n"
     ]
    },
    {
     "name": "stdout",
     "output_type": "stream",
     "text": [
      "Goodbye!\n"
     ]
    }
   ],
   "source": [
    "chatbot = Chat(pairs, reflections)\n",
    "\n",
    "def start_chat():\n",
    "    print(\"Chatbot: Hello! How can I help you today? (Type 'quit' to exit)\")\n",
    "    chatbot.converse()\n",
    "\n",
    "start_chat()\n"
   ]
  },
  {
   "cell_type": "markdown",
   "metadata": {
    "id": "BUoiFFZFYB2G"
   },
   "source": [
    "# Search Algorithm\n",
    "Implement a search algorithm on the task."
   ]
  },
  {
   "cell_type": "code",
   "execution_count": 4,
   "metadata": {
    "id": "1xi5YVxgYLaa"
   },
   "outputs": [
    {
     "name": "stdout",
     "output_type": "stream",
     "text": [
      "Shortest path: [(0, 1), (0, 2), (1, 2), (1, 3), (2, 3), (3, 3), (3, 4), (4, 4)]\n"
     ]
    }
   ],
   "source": [
    "import heapq\n",
    "\n",
    "def heuristic(a, b):\n",
    "    # Calculate the Manhattan distance as the heuristic function\n",
    "    return abs(a[0] - b[0]) + abs(a[1] - b[1])\n",
    "\n",
    "def astar(grid, start, goal):\n",
    "    open_list = []\n",
    "    heapq.heappush(open_list, (0, start))\n",
    "    came_from = {}\n",
    "    g_score = {(i, j): float('inf') for i in range(len(grid)) for j in range(len(grid[0]))}\n",
    "    g_score[start] = 0\n",
    "    f_score = {(i, j): float('inf') for i in range(len(grid)) for j in range(len(grid[0]))}\n",
    "    f_score[start] = heuristic(start, goal)\n",
    "\n",
    "    while open_list:\n",
    "        current = heapq.heappop(open_list)[1]\n",
    "\n",
    "        if current == goal:\n",
    "            path = []\n",
    "            while current in came_from:\n",
    "                path.append(current)\n",
    "                current = came_from[current]\n",
    "            return path[::-1]\n",
    "\n",
    "        for neighbor in [(0, -1), (0, 1), (-1, 0), (1, 0)]:\n",
    "            x, y = current[0] + neighbor[0], current[1] + neighbor[1]\n",
    "            if 0 <= x < len(grid) and 0 <= y < len(grid[0]) and grid[x][y] != 'X':\n",
    "                tentative_g_score = g_score[current] + 1\n",
    "\n",
    "                if tentative_g_score < g_score[(x, y)]:\n",
    "                    came_from[(x, y)] = current\n",
    "                    g_score[(x, y)] = tentative_g_score\n",
    "                    f_score[(x, y)] = tentative_g_score + heuristic((x, y), goal)\n",
    "                    if (f_score[(x, y)], (x, y)) not in open_list:\n",
    "                        heapq.heappush(open_list, (f_score[(x, y)], (x, y)))\n",
    "\n",
    "    return None  # No path found\n",
    "\n",
    "# Define the grid\n",
    "grid = [\n",
    "    ['S', '.', '.', 'X', 'X'],\n",
    "    ['.', 'X', '.', '.', '.'],\n",
    "    ['.', 'X', 'X', '.', 'X'],\n",
    "    ['.', '.', '.', '.', '.'],\n",
    "    ['X', '.', 'X', 'X', 'G']\n",
    "]\n",
    "\n",
    "# Find the start and goal positions\n",
    "start_pos = None\n",
    "goal_pos = None\n",
    "for i in range(len(grid)):\n",
    "    for j in range(len(grid[i])):\n",
    "        if grid[i][j] == 'S':\n",
    "            start_pos = (i, j)\n",
    "        elif grid[i][j] == 'G':\n",
    "            goal_pos = (i, j)\n",
    "\n",
    "if start_pos and goal_pos:\n",
    "    path = astar(grid, start_pos, goal_pos)\n",
    "    if path:\n",
    "        print(\"Shortest path:\", path)\n",
    "    else:\n",
    "        print(\"No path found.\")\n",
    "else:\n",
    "    print(\"Start (S) or goal (G) positions not found in the grid.\")\n"
   ]
  }
 ],
 "metadata": {
  "colab": {
   "provenance": []
  },
  "kernelspec": {
   "display_name": "ProjectML",
   "language": "python",
   "name": "projectml"
  },
  "language_info": {
   "codemirror_mode": {
    "name": "ipython",
    "version": 3
   },
   "file_extension": ".py",
   "mimetype": "text/x-python",
   "name": "python",
   "nbconvert_exporter": "python",
   "pygments_lexer": "ipython3",
   "version": "3.10.13"
  }
 },
 "nbformat": 4,
 "nbformat_minor": 4
}
