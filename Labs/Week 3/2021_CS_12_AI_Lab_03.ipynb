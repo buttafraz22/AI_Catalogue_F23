{
 "cells": [
  {
   "cell_type": "markdown",
   "id": "8d02d60a",
   "metadata": {},
   "source": [
    "# Given an unbalanced bracket sequence of ‘(‘ and ‘)’, convert it into a balanced sequence by adding the minimum number of ‘(‘ at the beginning of the string and ‘)’ at the end of the string by dynamic programming."
   ]
  },
  {
   "cell_type": "code",
   "execution_count": 1,
   "id": "efdd3d96",
   "metadata": {},
   "outputs": [],
   "source": [
    "def balance_parenthesis(string):\n",
    "\tstack = []\n",
    "\tfor c in string:\n",
    "\t\tif c == '(':\n",
    "\t\t\tstack.append(c)\n",
    "\t\telif c == ')':\n",
    "\t\t\t\n",
    "\t\t\tif len(stack) > 0 and stack[-1] == '(':\n",
    "\t\t\t\tstack.pop()\n",
    "\t\t\telse:\n",
    "\t\t\t\tstack.append(c)\n",
    "\treturn '(' * stack.count(')') + string + ')' * stack.count('(')\n"
   ]
  },
  {
   "cell_type": "code",
   "execution_count": 2,
   "id": "2c046be7",
   "metadata": {},
   "outputs": [
    {
     "name": "stdout",
     "output_type": "stream",
     "text": [
      "Input:\n",
      ")))()\n",
      "Balanced Parenthesis: \n",
      "((()))()\n"
     ]
    }
   ],
   "source": [
    "\n",
    "string = \")))()\"\n",
    "print(\"Input:\")\n",
    "print(string)\n",
    "adjusted_s = balance_parenthesis(string)\n",
    "print(\"Balanced Parenthesis: \")\n",
    "print(adjusted_s)"
   ]
  },
  {
   "cell_type": "markdown",
   "id": "24dcc935",
   "metadata": {},
   "source": [
    "# Coin Change Problem"
   ]
  },
  {
   "cell_type": "code",
   "execution_count": 13,
   "id": "e1591843",
   "metadata": {},
   "outputs": [],
   "source": [
    "def min_coins(m, V, coins):\n",
    "    if V == 0:\n",
    "        return 0\n",
    "    \n",
    "    r = float('inf')\n",
    "    \n",
    "    for i in range(0,m):\n",
    "        if coins[i] <= V:\n",
    "            sub_coins = min_coins(m, V - coins[i], coins)\n",
    "            if sub_coins != float('inf') and sub_coins + 1 < r:\n",
    "                r = sub_coins + 1\n",
    "    \n",
    "    return r\n"
   ]
  },
  {
   "cell_type": "code",
   "execution_count": 14,
   "id": "861839de",
   "metadata": {},
   "outputs": [
    {
     "name": "stdout",
     "output_type": "stream",
     "text": [
      "Required coins are 3\n"
     ]
    }
   ],
   "source": [
    "coins = [5, 25, 15, 1]\n",
    "V = 45\n",
    "m = len(coins)\n",
    "print(f'Required coins are {min_coins(m, V, coins)}')"
   ]
  },
  {
   "cell_type": "markdown",
   "id": "3c75cfdd",
   "metadata": {},
   "source": [
    "# Edit Distance Problem"
   ]
  },
  {
   "cell_type": "code",
   "execution_count": 15,
   "id": "fa896d18",
   "metadata": {},
   "outputs": [
    {
     "name": "stdout",
     "output_type": "stream",
     "text": [
      "Minimum edit distance between 'a cat' and 'the cats' is 4\n"
     ]
    }
   ],
   "source": [
    "cache = {}\n",
    "cache['count'] = 0\n",
    "\n",
    "def compute(a, b):\n",
    "    def recurse(a, b, m, n):\n",
    "        if (m, n) in cache:\n",
    "            return cache[(m, n)]\n",
    "\n",
    "        if m == 0:\n",
    "            result = n \n",
    "        elif n == 0:\n",
    "            result = m  \n",
    "        elif a[m - 1] == b[n - 1]:\n",
    "            result = recurse(a, b, m - 1, n - 1)\n",
    "        else:\n",
    "            c1 = 1 + recurse(a, b, m - 1, n - 1)  # Substitute a character in 'a'\n",
    "            c2 = 1 + recurse(a, b, m - 1, n)      # Delete a character from 'a'\n",
    "            c3 = 1 + recurse(a, b, m, n - 1)      # Insert a character into 'a'\n",
    "            result = min(c1, c2, c3)              # Choose the minimum among the three\n",
    "\n",
    "        # Store the result in the cache and return it\n",
    "        cache[(m, n)] = result\n",
    "        return result\n",
    "    # Call the recursive helper function 'recurse'\n",
    "    return recurse(a, b, len(a), len(b))\n",
    "\n",
    "# Recursive helper function to compute the minimum edit distance\n",
    "\n",
    "\n",
    "# Input strings\n",
    "a = 'a cat'\n",
    "b = 'the cats'\n",
    "\n",
    "# Call the 'compute' function to find the minimum edit distance\n",
    "min_edit_distance = compute(a, b)\n",
    "\n",
    "# Print the result\n",
    "print(f\"Minimum edit distance between '{a}' and '{b}' is {min_edit_distance}\")\n"
   ]
  }
 ],
 "metadata": {
  "kernelspec": {
   "display_name": "Python 3 (ipykernel)",
   "language": "python",
   "name": "python3"
  },
  "language_info": {
   "codemirror_mode": {
    "name": "ipython",
    "version": 3
   },
   "file_extension": ".py",
   "mimetype": "text/x-python",
   "name": "python",
   "nbconvert_exporter": "python",
   "pygments_lexer": "ipython3",
   "version": "3.9.13"
  }
 },
 "nbformat": 4,
 "nbformat_minor": 5
}
