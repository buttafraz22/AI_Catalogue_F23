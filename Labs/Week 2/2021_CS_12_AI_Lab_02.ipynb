{
 "cells": [
  {
   "cell_type": "markdown",
   "id": "c3f7a2c9",
   "metadata": {},
   "source": [
    "# Lab 2 Submission\n",
    "This lab deals with an introduction to dynamic programming as a way of problem solving."
   ]
  },
  {
   "cell_type": "markdown",
   "id": "4934cde8",
   "metadata": {},
   "source": [
    "## Task 1: Write the dynamic programming code of Fibonacci series."
   ]
  },
  {
   "cell_type": "code",
   "execution_count": 24,
   "id": "ec25c371",
   "metadata": {},
   "outputs": [],
   "source": [
    "import collections\n",
    "\n",
    "def fibonacci_dp(number):\n",
    "    cache = collections.defaultdict(int)\n",
    "    \n",
    "    def recurse(num):\n",
    "        if cache[num]:\n",
    "            return cache[num]\n",
    "        elif num <= 1:\n",
    "            cache[num] = num\n",
    "            return num\n",
    "        else:\n",
    "            answer = recurse(num-1) + recurse(num-2)\n",
    "#             print(answer)\n",
    "            cache[num] = answer\n",
    "            return answer\n",
    "    \n",
    "    sol = recurse(number)\n",
    "    return sol\n"
   ]
  },
  {
   "cell_type": "code",
   "execution_count": 25,
   "id": "2d74af7b",
   "metadata": {},
   "outputs": [
    {
     "name": "stdout",
     "output_type": "stream",
     "text": [
      "233\n"
     ]
    }
   ],
   "source": [
    "num = 13\n",
    "print(fibonacci_dp(num))"
   ]
  },
  {
   "cell_type": "markdown",
   "id": "dabc4985",
   "metadata": {},
   "source": [
    "## Task 2 : You are given the strings s1 and s2. You have to find the length of the longest common substring of s1 and s2."
   ]
  },
  {
   "cell_type": "code",
   "execution_count": 56,
   "id": "704aad63",
   "metadata": {},
   "outputs": [],
   "source": [
    "def recurse(str_1, str_2, m, n, count):\n",
    "    if m == 0 or n == 0:\n",
    "        return count\n",
    "\n",
    "    if str_1[m - 1] == str_2[n - 1]:\n",
    "        count = recurse(str_1, str_2, m - 1, n - 1, count + 1)\n",
    "    \n",
    "    count = max(count, max(\n",
    "        recurse(str_1, str_2, m - 1, n, 0),\n",
    "        recurse(str_1, str_2, m, n - 1, 0)\n",
    "    ))\n",
    "    \n",
    "    return count\n",
    "\n",
    "def longest_common_substring(str_1, str_2):\n",
    "    m = len(str_1)\n",
    "    n = len(str_2)\n",
    "    \n",
    "    return recurse(str_1, str_2, m, n, 0)\n",
    "def longest_common_substring_dp(str_1, str_2):\n",
    "    m = len(str_1)\n",
    "    n = len(str_2)\n",
    "    \n",
    "    dp = [[0] * (n + 1) for _ in range(m + 1)]\n",
    "    maximal = 0\n",
    "    \n",
    "    for i in range(1, m+1):\n",
    "        for j in range(1, n+1):\n",
    "            \n",
    "            if(str_1[i-1] == str_2[j-1]):\n",
    "#                 print((i,j))\n",
    "                dp[i][j] = dp[i-1][j-1] + 1\n",
    "                maximal = max(maximal,dp[i][j])\n",
    "            \n",
    "    \n",
    "    return maximal"
   ]
  },
  {
   "cell_type": "code",
   "execution_count": null,
   "id": "12ed198a",
   "metadata": {},
   "outputs": [],
   "source": [
    "longest_common_substring(\"afaraz\", \"afaraza\")"
   ]
  },
  {
   "cell_type": "markdown",
   "id": "f6cf8c87",
   "metadata": {},
   "source": [
    "## Task 3 : Given a rod of length n inches and an array of prices that includes prices of all pieces of size smaller than n. Determine the maximum value obtainable by cutting up the rod and selling the pieces."
   ]
  },
  {
   "cell_type": "code",
   "execution_count": 68,
   "id": "62d01e6a",
   "metadata": {},
   "outputs": [
    {
     "name": "stdout",
     "output_type": "stream",
     "text": [
      "10\n"
     ]
    }
   ],
   "source": [
    "def iterative_rod_cut(price):\n",
    "    dp = [0]* (len(price) + 1)\n",
    "    \n",
    "    for i in range(len(price)):\n",
    "        for j in range(i + 1):\n",
    "            dp[i] = max(dp[i], price[j] + dp[i - j - 1])\n",
    "    \n",
    "    return max(dp)\n",
    "\n",
    "def cutRod(p,n):\n",
    "    if n == 0:\n",
    "        return 0\n",
    "    q = float('-inf')\n",
    "    for i in range(n):\n",
    "        q = max(q, p[i] + cutRod(p, n-i))\n",
    "    return q\n",
    "\n",
    "prices = [1, 5, 8, 9]\n",
    "print(cutRod(prices, 4))"
   ]
  }
 ],
 "metadata": {
  "kernelspec": {
   "display_name": "Python 3 (ipykernel)",
   "language": "python",
   "name": "python3"
  },
  "language_info": {
   "codemirror_mode": {
    "name": "ipython",
    "version": 3
   },
   "file_extension": ".py",
   "mimetype": "text/x-python",
   "name": "python",
   "nbconvert_exporter": "python",
   "pygments_lexer": "ipython3",
   "version": "3.9.13"
  }
 },
 "nbformat": 4,
 "nbformat_minor": 5
}
