{
 "cells": [
  {
   "cell_type": "markdown",
   "metadata": {
    "id": "99uzECDycBC9"
   },
   "source": [
    "# <center>Artificial Intelligence</center>  <center>Fall 2023</center>\n",
    "## Lab 01\n",
    "#### Name: Afraz Butt\n",
    "#### Roll number: 2021-CS-12\n"
   ]
  },
  {
   "cell_type": "markdown",
   "metadata": {
    "id": "oGeXcV1ieX5k"
   },
   "source": [
    "Take weight in kgs and convert it into pounds. 1 pound = 1 kg 2.2046 **(2 marks)**"
   ]
  },
  {
   "cell_type": "code",
   "execution_count": 1,
   "metadata": {
    "colab": {
     "base_uri": "https://localhost:8080/"
    },
    "id": "kLLZInc9eZX9",
    "outputId": "28f0f43a-caba-4fae-fce0-5904d52196e0"
   },
   "outputs": [
    {
     "name": "stdout",
     "output_type": "stream",
     "text": [
      "4.4092\n"
     ]
    }
   ],
   "source": [
    "## add code here\n",
    "convert = lambda kg : kg * 2.2046\n",
    "print(convert(2))"
   ]
  },
  {
   "cell_type": "markdown",
   "metadata": {
    "id": "xLXJt74qebph"
   },
   "source": [
    "Calculate the cost of all the items in a shopping cart. **(2 marks)**"
   ]
  },
  {
   "cell_type": "code",
   "execution_count": 2,
   "metadata": {
    "colab": {
     "base_uri": "https://localhost:8080/"
    },
    "id": "Pd59WwdpehIW",
    "outputId": "a73047d3-c2cb-49ad-c57d-db0fe934d819"
   },
   "outputs": [
    {
     "name": "stdout",
     "output_type": "stream",
     "text": [
      "305\n"
     ]
    }
   ],
   "source": [
    "prices =[20,50,80,10,56,89]\n",
    "\n",
    "## add code here\n",
    "total = sum(prices)\n",
    "print(total)"
   ]
  },
  {
   "cell_type": "markdown",
   "metadata": {
    "id": "EGq2J0jeeqF_"
   },
   "source": [
    "Write a function that returns the maximum of two numbers. **(2 marks)**"
   ]
  },
  {
   "cell_type": "code",
   "execution_count": 3,
   "metadata": {
    "colab": {
     "base_uri": "https://localhost:8080/"
    },
    "id": "joOHP51beunx",
    "outputId": "4e9f2485-573f-4a3b-8fe1-39a5753a4aca"
   },
   "outputs": [
    {
     "name": "stdout",
     "output_type": "stream",
     "text": [
      "2\n"
     ]
    }
   ],
   "source": [
    "## add code here\n",
    "def max_numbers(num1, num2):\n",
    "  return max(num1, num2)\n",
    "\n",
    "print(max_numbers(1,2))"
   ]
  },
  {
   "cell_type": "markdown",
   "metadata": {
    "id": "B8cHTHEYe1em"
   },
   "source": [
    "Write a function called **deepmind** that takes a number  **(4 marks)**\n",
    "* If the number is divisible by 3, it should return deep.\n",
    "* If it is divisible by 5, it should return mind.\n",
    "* If it is divisible by both 3 and 5, it should return deepmind.\n",
    "* Otherwise, it should return the same number.\n",
    "\n",
    "\n"
   ]
  },
  {
   "cell_type": "code",
   "execution_count": 15,
   "metadata": {
    "colab": {
     "base_uri": "https://localhost:8080/"
    },
    "id": "k7r-_lhqfAtQ",
    "outputId": "805a651e-b51e-460a-9e54-0d1f8660e67d"
   },
   "outputs": [
    {
     "name": "stdout",
     "output_type": "stream",
     "text": [
      "deep\n",
      "mind\n",
      "deepmind\n",
      "2\n"
     ]
    }
   ],
   "source": [
    "## add code here\n",
    "def deepmind(num):\n",
    "  to_return = None\n",
    "  if num % 3 == 0:\n",
    "    def check_by_5(number):\n",
    "      return number % 5 == 0\n",
    "\n",
    "    if check_by_5(num):\n",
    "      to_return = 'deepmind'\n",
    "    else:\n",
    "      to_return = 'deep'\n",
    "  elif num % 5 == 0:\n",
    "    def check_by_3(number):\n",
    "      return number % 3 == 0\n",
    "\n",
    "    if check_by_3(num):\n",
    "      to_return = 'deepmind'\n",
    "    else:\n",
    "      to_return = 'mind'\n",
    "\n",
    "  else:\n",
    "    to_return = num\n",
    "\n",
    "  return to_return\n",
    "\n",
    "print(deepmind(3)) # deep\n",
    "print(deepmind(5)) # mind\n",
    "print(deepmind(15))# deepmind\n",
    "print(deepmind(2)) # 2"
   ]
  },
  {
   "cell_type": "markdown",
   "metadata": {
    "id": "rY5K6INzcGDS"
   },
   "source": [
    "**listA** =  [1,2,3,4,5,6,7,8,9,10]  \n",
    "\n",
    "If an element of **listA** is smaller than 5, replace it with 0. And if an element of x is bigger than 5, replace it with 1. (**2 marks**)"
   ]
  },
  {
   "cell_type": "code",
   "execution_count": 9,
   "metadata": {
    "colab": {
     "base_uri": "https://localhost:8080/"
    },
    "id": "qEAtvmNycFsQ",
    "outputId": "be00d9f7-ab87-4949-e22b-b7a40a3250d2"
   },
   "outputs": [
    {
     "name": "stdout",
     "output_type": "stream",
     "text": [
      "[0, 0, 0, 0, 5, 1, 1, 1, 1, 1]\n"
     ]
    }
   ],
   "source": [
    "## add code here\n",
    "listA = [1,2,3,4,5,6,7,8,9,10]\n",
    "new_list = []\n",
    "for i in range(len(listA)):\n",
    "  if listA[i] < 5:\n",
    "    listA[i] = 0\n",
    "  elif listA[i] > 5:\n",
    "    listA[i] = 1\n",
    "print(listA)"
   ]
  },
  {
   "cell_type": "markdown",
   "metadata": {
    "id": "m5tWGbKxcIug"
   },
   "source": [
    "Compute the square of **listA** elements in one line. (**2 marks**)\n"
   ]
  },
  {
   "cell_type": "code",
   "execution_count": 10,
   "metadata": {
    "id": "ajneZNrXcL0A"
   },
   "outputs": [
    {
     "name": "stdout",
     "output_type": "stream",
     "text": [
      "[1, 4, 9, 16, 25, 36, 49, 64, 81, 100]\n"
     ]
    }
   ],
   "source": [
    "listA = [1,2,3,4,5,6,7,8,9,10]\n",
    "## add code here\n",
    "squares = [i ** 2 for i in listA]\n",
    "print(squares)"
   ]
  },
  {
   "cell_type": "markdown",
   "metadata": {
    "id": "vPO_Yx8BcL-Q"
   },
   "source": [
    "Concatenate b1 and b2. (**2 marks**)"
   ]
  },
  {
   "cell_type": "code",
   "execution_count": 13,
   "metadata": {
    "id": "BREFhCCbcPGw"
   },
   "outputs": [
    {
     "name": "stdout",
     "output_type": "stream",
     "text": [
      "['Hello', 'in', 'first', 'Students', 'the', 'recitation']\n"
     ]
    }
   ],
   "source": [
    "b1 = ['Hello', 'in','first']\n",
    "b2 = ['Students','the','recitation']\n",
    "## add code here\n",
    "list_new = b1 + b2\n",
    "print(list_new)"
   ]
  },
  {
   "cell_type": "markdown",
   "metadata": {
    "id": "ri-m2ia5chLO"
   },
   "source": [
    "Create a dictionary of student **Ali** where the keys are courses and values are total and obtaining marks in each course. Print the dictionary items subjects wise **(2 marks)**"
   ]
  },
  {
   "cell_type": "code",
   "execution_count": 15,
   "metadata": {
    "id": "m8FMBIGbchwa"
   },
   "outputs": [
    {
     "name": "stdout",
     "output_type": "stream",
     "text": [
      "In Subject PF : 70 marks\n",
      "In Subject OOP : 80 marks\n",
      "In Subject DSA : 48 marks\n"
     ]
    }
   ],
   "source": [
    "## add code here\n",
    "marks = {'PF' : 70, 'OOP' : 80, 'DSA' : 48}\n",
    "for k,v in marks.items():\n",
    "    print(f'In Subject {k} : {v} marks')"
   ]
  },
  {
   "cell_type": "markdown",
   "metadata": {
    "id": "ZylTcdsIclSP"
   },
   "source": [
    "Create a class 'calculator' with the following functions to compute i) addition, ii) subtraction, iii)multiplication, iv)division and v)square\n",
    "between two numbers. **(2 marks)**"
   ]
  },
  {
   "cell_type": "code",
   "execution_count": 21,
   "metadata": {
    "id": "SX_v-PbuclrV"
   },
   "outputs": [
    {
     "name": "stdout",
     "output_type": "stream",
     "text": [
      "3\n",
      "-1\n",
      "6\n",
      "0.6666666666666666\n",
      "(4, 9)\n"
     ]
    },
    {
     "ename": "ValueError",
     "evalue": "Division By Zero Attempted, num2 = 0 was zero.",
     "output_type": "error",
     "traceback": [
      "\u001b[1;31m---------------------------------------------------------------------------\u001b[0m",
      "\u001b[1;31mValueError\u001b[0m                                Traceback (most recent call last)",
      "\u001b[1;32m~\\AppData\\Local\\Temp\\ipykernel_1332\\2724387901.py\u001b[0m in \u001b[0;36m<module>\u001b[1;34m\u001b[0m\n\u001b[0;32m     20\u001b[0m \u001b[0mprint\u001b[0m\u001b[1;33m(\u001b[0m\u001b[0mc\u001b[0m\u001b[1;33m.\u001b[0m\u001b[0mdivision\u001b[0m\u001b[1;33m(\u001b[0m\u001b[1;36m2\u001b[0m\u001b[1;33m,\u001b[0m\u001b[1;36m3\u001b[0m\u001b[1;33m)\u001b[0m\u001b[1;33m)\u001b[0m\u001b[1;33m\u001b[0m\u001b[1;33m\u001b[0m\u001b[0m\n\u001b[0;32m     21\u001b[0m \u001b[0mprint\u001b[0m\u001b[1;33m(\u001b[0m\u001b[0mc\u001b[0m\u001b[1;33m.\u001b[0m\u001b[0msquare\u001b[0m\u001b[1;33m(\u001b[0m\u001b[1;36m2\u001b[0m\u001b[1;33m,\u001b[0m\u001b[1;36m3\u001b[0m\u001b[1;33m)\u001b[0m\u001b[1;33m)\u001b[0m\u001b[1;33m\u001b[0m\u001b[1;33m\u001b[0m\u001b[0m\n\u001b[1;32m---> 22\u001b[1;33m \u001b[0mprint\u001b[0m\u001b[1;33m(\u001b[0m\u001b[0mc\u001b[0m\u001b[1;33m.\u001b[0m\u001b[0mdivision\u001b[0m\u001b[1;33m(\u001b[0m\u001b[1;36m2\u001b[0m\u001b[1;33m,\u001b[0m\u001b[1;36m0\u001b[0m\u001b[1;33m)\u001b[0m\u001b[1;33m)\u001b[0m \u001b[1;31m# error, zero division attempted\u001b[0m\u001b[1;33m\u001b[0m\u001b[1;33m\u001b[0m\u001b[0m\n\u001b[0m",
      "\u001b[1;32m~\\AppData\\Local\\Temp\\ipykernel_1332\\2724387901.py\u001b[0m in \u001b[0;36mdivision\u001b[1;34m(self, num1, num2)\u001b[0m\n\u001b[0;32m      9\u001b[0m     \u001b[1;32mdef\u001b[0m \u001b[0mdivision\u001b[0m\u001b[1;33m(\u001b[0m\u001b[0mself\u001b[0m\u001b[1;33m,\u001b[0m \u001b[0mnum1\u001b[0m\u001b[1;33m,\u001b[0m \u001b[0mnum2\u001b[0m\u001b[1;33m)\u001b[0m\u001b[1;33m:\u001b[0m\u001b[1;33m\u001b[0m\u001b[1;33m\u001b[0m\u001b[0m\n\u001b[0;32m     10\u001b[0m         \u001b[1;32mif\u001b[0m \u001b[0mnum2\u001b[0m \u001b[1;33m==\u001b[0m \u001b[1;36m0\u001b[0m\u001b[1;33m:\u001b[0m\u001b[1;33m\u001b[0m\u001b[1;33m\u001b[0m\u001b[0m\n\u001b[1;32m---> 11\u001b[1;33m             \u001b[1;32mraise\u001b[0m \u001b[0mValueError\u001b[0m\u001b[1;33m(\u001b[0m\u001b[1;34mf'Division By Zero Attempted, num2 = {num2} was zero.'\u001b[0m\u001b[1;33m)\u001b[0m\u001b[1;33m\u001b[0m\u001b[1;33m\u001b[0m\u001b[0m\n\u001b[0m\u001b[0;32m     12\u001b[0m         \u001b[1;32mreturn\u001b[0m \u001b[0mnum1\u001b[0m \u001b[1;33m/\u001b[0m \u001b[0mnum2\u001b[0m\u001b[1;33m\u001b[0m\u001b[1;33m\u001b[0m\u001b[0m\n\u001b[0;32m     13\u001b[0m     \u001b[1;32mdef\u001b[0m \u001b[0msquare\u001b[0m\u001b[1;33m(\u001b[0m\u001b[0mself\u001b[0m\u001b[1;33m,\u001b[0m \u001b[0mnum1\u001b[0m\u001b[1;33m,\u001b[0m \u001b[0mnum2\u001b[0m\u001b[1;33m)\u001b[0m\u001b[1;33m:\u001b[0m\u001b[1;33m\u001b[0m\u001b[1;33m\u001b[0m\u001b[0m\n",
      "\u001b[1;31mValueError\u001b[0m: Division By Zero Attempted, num2 = 0 was zero."
     ]
    }
   ],
   "source": [
    "## add code here\n",
    "class Calculator:\n",
    "    def add(self, num1, num2):\n",
    "        return num1 + num2\n",
    "    def subtract(self, num1, num2):\n",
    "        return num1 - num2\n",
    "    def multiply(self, num1, num2):\n",
    "        return num1 * num2\n",
    "    def division(self, num1, num2):\n",
    "        if num2 == 0:\n",
    "            raise ValueError(f'Division By Zero Attempted, num2 = {num2} was zero.')\n",
    "        return num1 / num2\n",
    "    def square(self, num1, num2):\n",
    "        return num1 ** 2, num2 ** 2\n",
    "\n",
    "c = Calculator()\n",
    "print(c.add(1,2))\n",
    "print(c.subtract(1,2))\n",
    "print(c.multiply(2,3))\n",
    "print(c.division(2,3))\n",
    "print(c.square(2,3))\n",
    "#print(c.division(2,0)) # error, zero division attempted "
   ]
  }
 ],
 "metadata": {
  "colab": {
   "provenance": []
  },
  "kernelspec": {
   "display_name": "Python 3 (ipykernel)",
   "language": "python",
   "name": "python3"
  },
  "language_info": {
   "codemirror_mode": {
    "name": "ipython",
    "version": 3
   },
   "file_extension": ".py",
   "mimetype": "text/x-python",
   "name": "python",
   "nbconvert_exporter": "python",
   "pygments_lexer": "ipython3",
   "version": "3.9.13"
  }
 },
 "nbformat": 4,
 "nbformat_minor": 1
}
