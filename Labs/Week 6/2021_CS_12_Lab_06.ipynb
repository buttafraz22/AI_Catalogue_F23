{
 "cells": [
  {
   "cell_type": "markdown",
   "id": "dc069f26",
   "metadata": {},
   "source": [
    "# Uniform Cost Search and A* Search On Undirected Graphs"
   ]
  },
  {
   "cell_type": "markdown",
   "id": "dc47b983",
   "metadata": {},
   "source": [
    "First we have to implement the Node and Graph class. The implementation of the data structure is same as Lab 04."
   ]
  },
  {
   "cell_type": "markdown",
   "id": "38c493c7",
   "metadata": {},
   "source": [
    "## A* Search"
   ]
  },
  {
   "cell_type": "code",
   "execution_count": 17,
   "id": "c58e0105",
   "metadata": {},
   "outputs": [],
   "source": [
    "import heapq\n",
    "\n",
    "def astar(graph, start, goal):\n",
    "    \"\"\"\n",
    "        Implements the A* Algorithm to find the optimal path.\n",
    "        \n",
    "        Args:\n",
    "            start : the start state\n",
    "            goal : the end state\n",
    "    \"\"\"\n",
    "    open_list = []\n",
    "    heapq.heappush(open_list, (0, start))\n",
    "    came_from = {}  # Dictionary to store the parent node of each node, used to reconstruct the path\n",
    "    g_values = {node: float('inf') for node in graph}\n",
    "    g_values[start] = 0\n",
    "\n",
    "    while open_list:\n",
    "        _, current_node = heapq.heappop(open_list) # pop the first element in the list\n",
    "#         print(current_node)\n",
    "        \n",
    "        # Goal State has been reached, reconstruct the path in a backward manner using the came_from list\n",
    "        if current_node == goal:\n",
    "            # Reconstruct the path\n",
    "            path = []\n",
    "            while current_node in came_from:\n",
    "                path.insert(0, current_node)\n",
    "                current_node = came_from[current_node]\n",
    "            path.insert(0, start)\n",
    "            return path\n",
    "        \n",
    "        # Construct the path in a forward manner\n",
    "        for neighbor, cost in graph[current_node]:\n",
    "#             print(f'current={g_values[current_node]},neighbour = {g_values[neighbor]}', end='\\n')\n",
    "            tentative_g_value = g_values[current_node] + cost\n",
    "#             print(neighbor, g_values[neighbor], g_values[current_node], tentative_g_value)\n",
    "            if tentative_g_value < g_values[neighbor]:\n",
    "                came_from[neighbor] = current_node\n",
    "                g_values[neighbor] = tentative_g_value\n",
    "                f_value = tentative_g_value + heuristics[neighbor]\n",
    "                heapq.heappush(open_list, (f_value, neighbor))\n",
    "#         print(open_list)\n",
    "\n",
    "    return None  # No path found"
   ]
  },
  {
   "cell_type": "markdown",
   "id": "0e9bce95",
   "metadata": {},
   "source": [
    "### Quick Sanity Check"
   ]
  },
  {
   "cell_type": "code",
   "execution_count": 18,
   "id": "406eacb9",
   "metadata": {},
   "outputs": [],
   "source": [
    "graph = {\n",
    "    'A': [('F', 3), ('B', 6)],\n",
    "    'B': [('A', 6), ('C', 3),('D',2),],\n",
    "    'C': [('D', 7), ('B', 3),('D',1)],\n",
    "    'D': [('C', 1), ('E', 8),('B',2)],\n",
    "    'E': [('D', 8), ('J', 7),('C',5),('I',5)],\n",
    "    'F': [('A', 3), ('G', 1), ('H', 7)],\n",
    "    'G': [('F', 1), ('I', 3),],\n",
    "    'H': [('I', 6)],\n",
    "    'I': [('G', 3), ('H', 2), ('E', 5),('J',3)],\n",
    "    'J': [('I', 3)]\n",
    "}\n",
    "\n",
    "heuristics = {\n",
    "    'A': 10,\n",
    "    'B': 8,\n",
    "    'C': 5,\n",
    "    'D': 7,\n",
    "    'E': 3,\n",
    "    'F': 6,\n",
    "    'G': 5,\n",
    "    'H': 3,\n",
    "    'I': 1,\n",
    "    'J': 0\n",
    "}"
   ]
  },
  {
   "cell_type": "code",
   "execution_count": 19,
   "id": "0434dad6",
   "metadata": {},
   "outputs": [
    {
     "name": "stdout",
     "output_type": "stream",
     "text": [
      "['A', 'F', 'G', 'I', 'J']\n"
     ]
    }
   ],
   "source": [
    "start, goal = 'A', 'J'\n",
    "path = astar(graph, start, goal)\n",
    "if path:\n",
    "    print(path)"
   ]
  },
  {
   "cell_type": "markdown",
   "id": "fb5bf50a",
   "metadata": {},
   "source": [
    "## Uniform Cost Search"
   ]
  },
  {
   "cell_type": "code",
   "execution_count": 22,
   "id": "50181d0c",
   "metadata": {},
   "outputs": [],
   "source": [
    "import heapq\n",
    "\n",
    "def ucs(graph, start, end):\n",
    "    \"\"\"\n",
    "        Implements the Uniform Cost Search Algorithm to find the optimal path.\n",
    "        \n",
    "        Args:\n",
    "            start : the start state\n",
    "            goal : the end state\n",
    "    \"\"\"\n",
    "    # Priority queue to keep track of nodes to be explored\n",
    "    priority_queue = [(0, start)]  # (cost, node)\n",
    "    # Dictionary to store the cumulative cost to reach each node\n",
    "    cost_so_far = {node: float('inf') for node in graph}\n",
    "    cost_so_far[start] = 0\n",
    "    # Dictionary to store the parent node for each node in the optimal path\n",
    "    parent = {}\n",
    "    \n",
    "    while priority_queue:\n",
    "        current_cost, current_node = heapq.heappop(priority_queue)\n",
    "        \n",
    "        if current_node == end:\n",
    "            # We have reached the destination node, print the path and cost\n",
    "            path = []\n",
    "            while current_node:\n",
    "                path.append(current_node)\n",
    "                current_node = parent.get(current_node)\n",
    "            path.reverse()\n",
    "            return path, cost_so_far[end]\n",
    "        \n",
    "#         print(graph[current_node])\n",
    "        for neighbor, weight in graph[current_node].items():\n",
    "            new_cost = cost_so_far[current_node] + weight\n",
    "            if new_cost < cost_so_far[neighbor]:\n",
    "                cost_so_far[neighbor] = new_cost\n",
    "                heapq.heappush(priority_queue, (new_cost, neighbor))\n",
    "                parent[neighbor] = current_node\n",
    "    \n",
    "    # If the destination node is not reachable\n",
    "    return None, float('inf')"
   ]
  },
  {
   "cell_type": "markdown",
   "id": "66bc75eb",
   "metadata": {},
   "source": [
    "### Quick Sanity Check"
   ]
  },
  {
   "cell_type": "code",
   "execution_count": 21,
   "id": "b5244d4e",
   "metadata": {},
   "outputs": [
    {
     "name": "stdout",
     "output_type": "stream",
     "text": [
      "Path from A to E: ['A', 'B', 'D', 'E'] Total Cost: 5\n"
     ]
    }
   ],
   "source": [
    "graph = {\n",
    "    'A': {'B': 1, 'C': 5},\n",
    "    'B': {'D': 2},\n",
    "    'C': {'D': 1, 'E': 3},\n",
    "    'D': {'E': 2},\n",
    "    'E': {}\n",
    "}\n",
    "\n",
    "start, goal = 'A', 'E'\n",
    "\n",
    "path, cost = ucs(graph, start, goal)\n",
    "if path:\n",
    "    print(f\"Path from {start} to {goal}: {path}\", end=\" \")\n",
    "    print(f\"Total Cost: {cost}\")\n",
    "else:\n",
    "    print(f\"No path found from {start} to {goal}\")"
   ]
  }
 ],
 "metadata": {
  "kernelspec": {
   "display_name": "Python 3 (ipykernel)",
   "language": "python",
   "name": "python3"
  },
  "language_info": {
   "codemirror_mode": {
    "name": "ipython",
    "version": 3
   },
   "file_extension": ".py",
   "mimetype": "text/x-python",
   "name": "python",
   "nbconvert_exporter": "python",
   "pygments_lexer": "ipython3",
   "version": "3.9.13"
  }
 },
 "nbformat": 4,
 "nbformat_minor": 5
}
